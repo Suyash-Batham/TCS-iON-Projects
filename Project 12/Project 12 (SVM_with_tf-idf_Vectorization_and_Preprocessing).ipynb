{
 "cells": [
  {
   "cell_type": "markdown",
   "metadata": {},
   "source": [
    "# SVM with tf-idf Vectorization and No Preprocessing\n",
    "______"
   ]
  },
  {
   "cell_type": "markdown",
   "metadata": {},
   "source": [
    "###### Importing Libraries"
   ]
  },
  {
   "cell_type": "code",
   "execution_count": null,
   "metadata": {},
   "outputs": [],
   "source": [
    "import os\n",
    "import glob\n",
    "import numpy as np\n",
    "from warnings import simplefilter\n",
    "import re\n",
    "import nltk\n",
    "from nltk.corpus import stopwords \n",
    "from nltk.tokenize import word_tokenize \n",
    "import string\n",
    "from nltk.stem import WordNetLemmatizer \n",
    "import random\n",
    "nltk.download('stopwords')\n",
    "nltk.download('punkt')\n",
    "nltk.download('wordnet')\n",
    "simplefilter(action='ignore', category=FutureWarning)"
   ]
  },
  {
   "cell_type": "markdown",
   "metadata": {},
   "source": [
    "##### Importing Dataset"
   ]
  },
  {
   "cell_type": "code",
   "execution_count": 2,
   "metadata": {},
   "outputs": [],
   "source": [
    "train_positive_path = 'C:/Users/susya/TCS iON Projects/Projects/Project 10-20/aclImdb/train/pos/'\n",
    "train_negative_path = 'C:/Users/susya/TCS iON Projects/Projects/Project 10-20/aclImdb/train/neg/'\n",
    "test_positive_path = 'C:/Users/susya/TCS iON Projects/Projects/Project 10-20/aclImdb/test/pos/'\n",
    "test_negative_path = 'C:/Users/susya/TCS iON Projects/Projects/Project 10-20/aclImdb/test/neg/'"
   ]
  },
  {
   "cell_type": "markdown",
   "metadata": {},
   "source": [
    "##### Reading Data from Function"
   ]
  },
  {
   "cell_type": "code",
   "execution_count": 3,
   "metadata": {},
   "outputs": [],
   "source": [
    "def read_files_in_path(path):\n",
    "    positive_training_data=[]\n",
    "    for filepath in glob.glob(os.path.join(path, '*.txt')):\n",
    "        with open(filepath,encoding='utf8') as f:\n",
    "            content = f.read()\n",
    "            positive_training_data.append(content)\n",
    "    return positive_training_data"
   ]
  },
  {
   "cell_type": "markdown",
   "metadata": {},
   "source": [
    "##### Read training data"
   ]
  },
  {
   "cell_type": "code",
   "execution_count": 4,
   "metadata": {},
   "outputs": [],
   "source": [
    "positive_training_data = read_files_in_path(train_positive_path)\n",
    "negative_training_data = read_files_in_path(train_negative_path)\n",
    "whole_training_data = positive_training_data+negative_training_data"
   ]
  },
  {
   "cell_type": "markdown",
   "metadata": {},
   "source": [
    "##### Reading Test Data"
   ]
  },
  {
   "cell_type": "code",
   "execution_count": 5,
   "metadata": {},
   "outputs": [],
   "source": [
    "positive_test_data = read_files_in_path(test_positive_path)\n",
    "negative_test_data = read_files_in_path(test_negative_path)\n",
    "whole_test_data = positive_test_data+negative_test_data"
   ]
  },
  {
   "cell_type": "markdown",
   "metadata": {},
   "source": [
    "##### Remove HTML tags from dataset"
   ]
  },
  {
   "cell_type": "code",
   "execution_count": 6,
   "metadata": {},
   "outputs": [],
   "source": [
    "def cleanhtml(whole_training_data):\n",
    "    no_HTML_whole_training_data = []\n",
    "    cleaner = re.compile('<.*?>')\n",
    "    for review in whole_training_data:\n",
    "        cleantext = re.sub(cleaner, '', review)\n",
    "        no_HTML_whole_training_data.append(cleantext)\n",
    "    return no_HTML_whole_training_data"
   ]
  },
  {
   "cell_type": "markdown",
   "metadata": {},
   "source": [
    "##### Remove stop words and punctuation"
   ]
  },
  {
   "cell_type": "code",
   "execution_count": 7,
   "metadata": {},
   "outputs": [],
   "source": [
    "def remove_punc_stop_words(no_HTML_whole_training_data):\n",
    "    clean_training_data = []\n",
    "    for review in no_HTML_whole_training_data:\n",
    "        #remove punctuation marks\n",
    "        review = review.lower()\n",
    "        for ch in string.punctuation:\n",
    "            review = review.replace(ch,' ')\n",
    "        #Remove stop words\n",
    "        stop_words = set(stopwords.words('english')) \n",
    "        word_tokens = word_tokenize(review) \n",
    "        filtered_words = [w for w in word_tokens if not w in stop_words] \n",
    "        #construct the review again\n",
    "        sentence =''\n",
    "        for word in filtered_words:\n",
    "            sentence+=lemmatize_word(word)\n",
    "            sentence+=' '\n",
    "        clean_training_data.append(sentence)\n",
    "    return clean_training_data"
   ]
  },
  {
   "cell_type": "markdown",
   "metadata": {},
   "source": [
    "##### Lemmatizing words"
   ]
  },
  {
   "cell_type": "code",
   "execution_count": 8,
   "metadata": {},
   "outputs": [],
   "source": [
    "def lemmatize_word(word):\n",
    "    lemmatizer = WordNetLemmatizer()\n",
    "    return lemmatizer.lemmatize(word)"
   ]
  },
  {
   "cell_type": "markdown",
   "metadata": {},
   "source": [
    "###### clean data from HTML tags"
   ]
  },
  {
   "cell_type": "code",
   "execution_count": 9,
   "metadata": {},
   "outputs": [],
   "source": [
    "no_HTML_whole_training_data = cleanhtml(whole_training_data)"
   ]
  },
  {
   "cell_type": "code",
   "execution_count": 10,
   "metadata": {},
   "outputs": [
    {
     "name": "stdout",
     "output_type": "stream",
     "text": [
      "The Movie was sub-par, but this Television Pilot delivers a great springboard into what has become a Sci-Fi fans Ideal program. The Actors deliver and the special effects (for a television series) are spectacular. Having an intelligent interesting script doesn't hurt either.<br /><br />Stargate SG1 is currently one of my favorite programs.\n"
     ]
    }
   ],
   "source": [
    "print(whole_training_data[210])"
   ]
  },
  {
   "cell_type": "code",
   "execution_count": 12,
   "metadata": {},
   "outputs": [
    {
     "name": "stdout",
     "output_type": "stream",
     "text": [
      "The Movie was sub-par, but this Television Pilot delivers a great springboard into what has become a Sci-Fi fans Ideal program. The Actors deliver and the special effects (for a television series) are spectacular. Having an intelligent interesting script doesn't hurt either.Stargate SG1 is currently one of my favorite programs.\n"
     ]
    }
   ],
   "source": [
    "print(no_HTML_whole_training_data[210])"
   ]
  },
  {
   "cell_type": "code",
   "execution_count": 13,
   "metadata": {},
   "outputs": [],
   "source": [
    "clean_training_data = remove_punc_stop_words(no_HTML_whole_training_data)"
   ]
  },
  {
   "cell_type": "code",
   "execution_count": 14,
   "metadata": {},
   "outputs": [
    {
     "name": "stdout",
     "output_type": "stream",
     "text": [
      "{'other', 've', 'any', \"hadn't\", 'above', \"it's\", 'doesn', 'was', \"hasn't\", \"wouldn't\", 'only', 'further', 'it', 'with', 'few', 'as', 'yourself', 'or', 'over', 'itself', 'weren', 'shouldn', 'what', 'our', 'who', \"shan't\", 'is', 'you', \"needn't\", 'not', 'very', 'too', 'at', 'didn', 'when', 'should', \"couldn't\", 'all', 'ours', 'into', 'again', 'will', 'haven', 'mightn', 'about', \"she's\", 'were', 'under', 'hadn', 'won', 'where', 'her', 'that', \"mustn't\", 'on', 'against', 'how', 'being', 'can', 'myself', 'below', 'their', 'here', 'once', \"wasn't\", 'he', 'his', 'y', 'aren', \"you'd\", 'shan', 'have', 'yours', 'after', 'both', 'until', 'own', 'are', \"should've\", 'from', 'its', 'o', 'needn', \"haven't\", 'same', 'why', 'by', 'nor', 'me', \"weren't\", 'there', 'which', \"you'll\", 'those', 'during', 'mustn', 'each', \"isn't\", 'off', 'd', 'ourselves', 'for', 'don', \"won't\", 'my', 'an', 'himself', 'doing', 'has', 'to', 'hasn', 'this', 'than', 'themselves', 'your', 'between', 'she', 'up', \"doesn't\", 'theirs', \"you've\", \"that'll\", 't', 'more', 'ma', 'so', 'they', 'wasn', 'through', 'most', 'am', 'couldn', 'out', 'some', 'hers', \"you're\", 'these', 'be', 'now', 'them', 'then', \"mightn't\", 'the', \"didn't\", \"don't\", 'because', 'such', 'but', 'having', 'while', 're', 'isn', 'm', 'ain', \"shouldn't\", 'wouldn', 'herself', 'been', 'if', 'down', 'a', 'in', 'i', \"aren't\", 'll', 'no', 'had', 'yourselves', 'does', 'did', 'and', 'we', 'do', 's', 'him', 'before', 'whom', 'of', 'just'}\n"
     ]
    }
   ],
   "source": [
    "print(set(stopwords.words('english')))"
   ]
  },
  {
   "cell_type": "code",
   "execution_count": 16,
   "metadata": {},
   "outputs": [
    {
     "name": "stdout",
     "output_type": "stream",
     "text": [
      "The Movie was sub-par, but this Television Pilot delivers a great springboard into what has become a Sci-Fi fans Ideal program. The Actors deliver and the special effects (for a television series) are spectacular. Having an intelligent interesting script doesn't hurt either.Stargate SG1 is currently one of my favorite programs.\n"
     ]
    }
   ],
   "source": [
    "print(no_HTML_whole_training_data[210])"
   ]
  },
  {
   "cell_type": "code",
   "execution_count": 17,
   "metadata": {},
   "outputs": [
    {
     "name": "stdout",
     "output_type": "stream",
     "text": [
      "movie sub par television pilot delivers great springboard become sci fi fan ideal program actor deliver special effect television series spectacular intelligent interesting script hurt either stargate sg1 currently one favorite program \n"
     ]
    }
   ],
   "source": [
    "print(clean_training_data[210])"
   ]
  },
  {
   "cell_type": "code",
   "execution_count": 18,
   "metadata": {},
   "outputs": [
    {
     "name": "stdout",
     "output_type": "stream",
     "text": [
      "I'm not great at writing reviews, so I'll just spout my opinions...I loved this series at first. The adventure, the action, the comedy, the drama... I thought it was all brilliant. Anderson, Tapping, Shanks, Judge, Davis... I loved them all. Davis, it seemed, was the fifth-most important person in the cast. Not a big deal. But when his character (General Hammond) left at the end of the seventh season, and Anderson's character (Colonel O'Neill) moved from the field to the office, the quality of the series suddenly fell off a cliff. I don't know whether it's because Hammond was more important that I realized or what, but for some reason, after the seventh season, the series turned to ****.The first seven seasons, though, were awesome. The movie Stargate seemed mediocre the first time I saw it, but it turned out to be, even if this wasn't the original intention, a brilliant setup to the series. I recommend that you watch the movie first, then watch the first season of the TV series, then watch the movie again (you'll have a whole new appreciation of it the second time around, believe me), and then watch the rest of the TV series.The last three seasons of the series aren't nearly as good as the first seven, but that doesn't mean they aren't good. It just means they're a letdown if you've gotten spoiled by the first seven seasons.After you have finished this series, be sure to watch the spin off series, Stargate: Atlantis. It is a worthy successor to this brilliant series.EDIT on 7-18-08: I just found out that Don S. Davis died a few weeks ago. It is a great loss.\n"
     ]
    }
   ],
   "source": [
    "print(no_HTML_whole_training_data[310])"
   ]
  },
  {
   "cell_type": "code",
   "execution_count": 19,
   "metadata": {},
   "outputs": [
    {
     "name": "stdout",
     "output_type": "stream",
     "text": [
      "great writing review spout opinion loved series first adventure action comedy drama thought brilliant anderson tapping shank judge davis loved davis seemed fifth important person cast big deal character general hammond left end seventh season anderson character colonel neill moved field office quality series suddenly fell cliff know whether hammond important realized reason seventh season series turned first seven season though awesome movie stargate seemed mediocre first time saw turned even original intention brilliant setup series recommend watch movie first watch first season tv series watch movie whole new appreciation second time around believe watch rest tv series last three season series nearly good first seven mean good mean letdown gotten spoiled first seven season finished series sure watch spin series stargate atlantis worthy successor brilliant series edit 7 18 08 found davis died week ago great loss \n"
     ]
    }
   ],
   "source": [
    "print(clean_training_data[310])"
   ]
  },
  {
   "cell_type": "code",
   "execution_count": 20,
   "metadata": {},
   "outputs": [
    {
     "name": "stdout",
     "output_type": "stream",
     "text": [
      "Undying is a very good game which brings some new elements on the tired genre of first person shoot em ups. It tells the story of Patrick Galloway an expert of the occult and a formidable fighter who is summoned by a friend to his estate in Ireland to investigate some weird phainomena. The game is set in Ireland after World War one so don't expect to find weapons like chainguns or rocket launchers.All the weapons in the game can be considered antiques but the real fun in the game are its spells and the system they operate on.Our hero is ambidexterous so he can use both his hands at the same time: he casts spells with his right arm and uses his guns with the left.So you can shoot and cast spells at the same time which as you understand very fun and also unique to this game! The graphics are great and they can run very well on a medium power P.C..Level design is also cool and atmospheric. Mostly the game revolves around the Covenant estate and the mansion but there are many other locations waiting to be discovered as you progress. Thanks to the talent of Clyve Barker the game has an excelent storyline and plot (something very rare for a First person shooter) and i said before a great and very spooky atmosphere the voice acting is also good but not excellent. But the game has two main flaws. First of all it is quite linear so when your mission says for example go to that room all the doors in the house will be locked apart from those that lead to the room of your mission this may save time but it restricts your liberty of exploration.Secondly the fact all the weapons are antiques may not appeal to most fps players who are used to high tech weaponry. As far as difficulty is concerned the game is very well balanced. Most of it is of medium difficulty but sometimes it gets more difficult but not frustratingly difficult. Overall undying is a great game. Definitely one of the best fps out there.\n"
     ]
    }
   ],
   "source": [
    "print(no_HTML_whole_training_data[4510])"
   ]
  },
  {
   "cell_type": "code",
   "execution_count": 21,
   "metadata": {},
   "outputs": [
    {
     "name": "stdout",
     "output_type": "stream",
     "text": [
      "undying good game brings new element tired genre first person shoot em ups tell story patrick galloway expert occult formidable fighter summoned friend estate ireland investigate weird phainomena game set ireland world war one expect find weapon like chainguns rocket launcher weapon game considered antique real fun game spell system operate hero ambidexterous use hand time cast spell right arm us gun left shoot cast spell time understand fun also unique game graphic great run well medium power p c level design also cool atmospheric mostly game revolves around covenant estate mansion many location waiting discovered progress thanks talent clyve barker game excelent storyline plot something rare first person shooter said great spooky atmosphere voice acting also good excellent game two main flaw first quite linear mission say example go room door house locked apart lead room mission may save time restricts liberty exploration secondly fact weapon antique may appeal fps player used high tech weaponry far difficulty concerned game well balanced medium difficulty sometimes get difficult frustratingly difficult overall undying great game definitely one best fps \n"
     ]
    }
   ],
   "source": [
    "print(clean_training_data[4510])"
   ]
  },
  {
   "cell_type": "code",
   "execution_count": 22,
   "metadata": {},
   "outputs": [],
   "source": [
    "no_HTML_whole_test_data = cleanhtml(whole_test_data)\n",
    "clean_test_data = remove_punc_stop_words(no_HTML_whole_test_data)"
   ]
  },
  {
   "cell_type": "markdown",
   "metadata": {},
   "source": [
    "##### Creating labels for the training data and test data first 12500 are positive and the remaining 12500 are negative"
   ]
  },
  {
   "cell_type": "code",
   "execution_count": 23,
   "metadata": {},
   "outputs": [],
   "source": [
    "train_labels = np.asarray([1]*len(positive_training_data) + [0]*len(negative_training_data))\n",
    "test_labels = np.asarray([1]*len(positive_test_data) + [0]*len(negative_test_data))"
   ]
  },
  {
   "cell_type": "markdown",
   "metadata": {},
   "source": [
    "##### randomize test data"
   ]
  },
  {
   "cell_type": "code",
   "execution_count": 24,
   "metadata": {},
   "outputs": [],
   "source": [
    "z = list(zip(clean_training_data, train_labels))\n",
    "random.shuffle(z)\n",
    "random_clean_training_data, random_train_labels = zip(*z)"
   ]
  },
  {
   "cell_type": "code",
   "execution_count": 25,
   "metadata": {},
   "outputs": [],
   "source": [
    "from sklearn.feature_extraction.text import CountVectorizer\n",
    "from sklearn.feature_extraction.text import TfidfVectorizer\n",
    "import itertools"
   ]
  },
  {
   "cell_type": "code",
   "execution_count": 26,
   "metadata": {},
   "outputs": [],
   "source": [
    "vectorizer = TfidfVectorizer(stop_words='english')\n",
    "train_vector = vectorizer.fit_transform(random_clean_training_data)\n",
    "test_vector = vectorizer.transform(clean_test_data)"
   ]
  },
  {
   "cell_type": "markdown",
   "metadata": {},
   "source": [
    "##### Printing some visualization of the sizes of the train and test vectors \n",
    "train_vector has 25000 row corresponding to the 25000 review and 67846 feature extracted"
   ]
  },
  {
   "cell_type": "code",
   "execution_count": 27,
   "metadata": {},
   "outputs": [
    {
     "name": "stdout",
     "output_type": "stream",
     "text": [
      "(25000,)\n",
      "(25000, 67846)\n"
     ]
    }
   ],
   "source": [
    "print(train_labels.shape)\n",
    "print(train_vector.shape)"
   ]
  },
  {
   "cell_type": "markdown",
   "metadata": {},
   "source": [
    "##### Rrinting shapes of test vector and label"
   ]
  },
  {
   "cell_type": "code",
   "execution_count": 28,
   "metadata": {},
   "outputs": [
    {
     "name": "stdout",
     "output_type": "stream",
     "text": [
      "(25000,)\n",
      "(25000, 67846)\n"
     ]
    }
   ],
   "source": [
    "print(test_labels.shape)\n",
    "print(test_vector.shape)"
   ]
  },
  {
   "cell_type": "code",
   "execution_count": 4,
   "metadata": {},
   "outputs": [
    {
     "name": "stdout",
     "output_type": "stream",
     "text": [
      "SVM with text preprocessing and using TFidf classification accuracy:\n",
      " 61.30799999999999 %\n"
     ]
    }
   ],
   "source": [
    "from sklearn import svm\n",
    "svm_clf = svm.SVC(kernel='linear')\n",
    "svm_clf.fit(train_vector, random_train_labels)\n",
    "print(\"SVM with text preprocessing and using TFidf classification accuracy:\\n\",svm_clf.score(test_vector,test_labels)*100,\"%\")"
   ]
  }
 ],
 "metadata": {
  "kernelspec": {
   "display_name": "Python 3",
   "language": "python",
   "name": "python3"
  },
  "language_info": {
   "codemirror_mode": {
    "name": "ipython",
    "version": 3
   },
   "file_extension": ".py",
   "mimetype": "text/x-python",
   "name": "python",
   "nbconvert_exporter": "python",
   "pygments_lexer": "ipython3",
   "version": "3.7.6"
  }
 },
 "nbformat": 4,
 "nbformat_minor": 2
}
